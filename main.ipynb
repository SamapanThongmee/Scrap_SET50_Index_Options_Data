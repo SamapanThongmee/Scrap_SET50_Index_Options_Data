{
  "cells": [
    {
      "cell_type": "markdown",
      "metadata": {
        "id": "-Flwmh6uUQZW"
      },
      "source": [
        "##### **Install Package and Libraries**"
      ]
    },
    {
      "cell_type": "code",
      "execution_count": null,
      "metadata": {
        "colab": {
          "base_uri": "https://localhost:8080/"
        },
        "id": "siOVms44NLHh",
        "outputId": "dcff3662-1e49-4b4c-d874-a1958eeac3f0"
      },
      "outputs": [],
      "source": [
        "# Install package\n",
        "!pip install selenium\n",
        "!pip install webdriver-manager\n",
        "\n",
        "# Install library\n",
        "import datetime as dt\n",
        "import datetime\n",
        "import numpy as np\n",
        "import os\n",
        "import pandas as pd\n",
        "from selenium import webdriver\n",
        "\n",
        "# Install wget\n",
        "!apt-get install wget\n",
        "\n",
        "# Download the chromedriver.exe from GitHub\n",
        "os.system('wget https://github.com/SamapanThongmee/Scrap_SET50_Index_Options_Data/blob/main/chromedriver.exe')\n",
        "\n",
        "def web_driver():\n",
        "    options = webdriver.ChromeOptions()\n",
        "    options.add_argument(\"--verbose\")\n",
        "    options.add_argument('--no-sandbox')\n",
        "    options.add_argument('--headless')\n",
        "    options.add_argument('--disable-gpu')\n",
        "    options.add_argument(\"--window-size=1920, 1200\")\n",
        "    options.add_argument('--disable-dev-shm-usage')\n",
        "    driver = webdriver.Chrome(options=options)\n",
        "    return driver\n",
        "\n",
        "driver = web_driver()"
      ]
    },
    {
      "cell_type": "markdown",
      "metadata": {},
      "source": [
        "##### **Check Options Symbol Year-by-Year**"
      ]
    },
    {
      "cell_type": "code",
      "execution_count": null,
      "metadata": {
        "id": "p98amRdrOjkZ"
      },
      "outputs": [],
      "source": [
        "def getCheckOptions(symbol='S50Z23P900'):\n",
        "    options = []\n",
        "    try:\n",
        "        options_df = pd.DataFrame()\n",
        "\n",
        "        for page in range(1):\n",
        "            url = f'https://www.tfex.co.th/tfex/historicalTrading.html?symbol={symbol}&series=&page={page}&periodView=A&locale=en_US'\n",
        "            driver.get(url)\n",
        "            data = driver.page_source\n",
        "            scrap = pd.read_html(data)[0]\n",
        "\n",
        "            mask = scrap['Date'] == 'Grand Total'\n",
        "            indices = int(scrap.index[mask][0])\n",
        "            options_data = scrap.iloc[:indices, :][['Date', 'Open', 'High', 'Low', 'Close', 'SP', 'Vol', 'OI']].replace('-', 0)\n",
        "\n",
        "            options_data['Date'] = pd.to_datetime(options_data['Date'], format='%d/%m/%Y').dt.strftime('%Y-%m-%d')\n",
        "            options_data['SP'] = pd.to_numeric(options_data['SP'])\n",
        "            options_data['Vol'] = pd.to_numeric(options_data['Vol'])\n",
        "            options_data['OI'] = pd.to_numeric(options_data['OI'])\n",
        "\n",
        "            options_df = pd.concat([options_df, options_data], axis=0)\n",
        "\n",
        "        options_df['Symbol'] = symbol\n",
        "        options_df = options_df[['Date', 'Symbol', 'Open', 'High', 'Low', 'Close', 'SP', 'Vol', 'OI']]\n",
        "        options_df = options_df.sort_values(by='Date').reset_index(drop=True)\n",
        "        options_df = options_df.drop_duplicates(subset=['Date'], keep='last')\n",
        "        options = options_df\n",
        "\n",
        "    except:\n",
        "      pass\n",
        "\n",
        "    return options"
      ]
    },
    {
      "cell_type": "code",
      "execution_count": null,
      "metadata": {
        "id": "rpS3bt2HH2LG"
      },
      "outputs": [],
      "source": [
        "def generate_option_symbols(year, letters):\n",
        "    symbols_to_check = {}\n",
        "\n",
        "    for letter in letters:\n",
        "        current_list_C = []\n",
        "\n",
        "        start_value = 250\n",
        "        end_value = 1250\n",
        "        interval = 25\n",
        "\n",
        "        current_value = start_value\n",
        "        while current_value <= end_value:\n",
        "            symbol_C = f'S50{letter}{year}C{current_value}'\n",
        "            current_list_C.append(symbol_C)\n",
        "            current_value += interval\n",
        "\n",
        "        symbols_to_check[f'S50{letter}{year}_C'] = current_list_C\n",
        "\n",
        "    symbols_to_check = {key.replace('_C', '_Call'): value for key, value in symbols_to_check.items()}\n",
        "\n",
        "    all_symbols = []\n",
        "    for value in symbols_to_check.values():\n",
        "        all_symbols.extend(value)\n",
        "\n",
        "    series_options = []\n",
        "\n",
        "    for symbol in all_symbols:\n",
        "        options = getCheckOptions(symbol)\n",
        "\n",
        "        if len(options) > 0:\n",
        "            series_options.append(symbol)\n",
        "\n",
        "    Call_Options_Symbols = series_options\n",
        "    Put_Options_Symbols = [symbol.replace('C', 'P') for symbol in Call_Options_Symbols]\n",
        "    return Call_Options_Symbols + Put_Options_Symbols\n",
        "\n",
        "current_year = datetime.datetime.now().year\n",
        "last_two_digits = current_year % 100\n",
        "letters = ['M', 'H', 'U', 'Z']\n",
        "\n",
        "for year in range(7, last_two_digits + 1):\n",
        "    year_str = str(year).zfill(2)\n",
        "    symbols = generate_option_symbols(year_str, letters)\n",
        "\n",
        "    with open(f'{year + 2000}_Options_Symbols.txt', 'w') as file:\n",
        "      file.write(' '.join(map(str, symbols)))"
      ]
    },
    {
      "cell_type": "code",
      "execution_count": null,
      "metadata": {
        "id": "0ipVpsk9Evrh"
      },
      "outputs": [],
      "source": [
        "current_year = datetime.datetime.now().year\n",
        "last_two_digits = current_year % 100\n",
        "\n",
        "years = [str(i).zfill(2) for i in range(21, last_two_digits + 1)]\n",
        "letters = ['M', 'H', 'U', 'Z']\n",
        "\n",
        "for year in years:\n",
        "    symbols_to_check = {}\n",
        "\n",
        "    for letter in letters:\n",
        "        current_list_C = []\n",
        "\n",
        "        start_value = 250\n",
        "        end_value = 1250\n",
        "        interval = 25\n",
        "\n",
        "        current_value = start_value\n",
        "        while current_value <= end_value:\n",
        "            symbol_C = f'S50{letter}{year}C{current_value}'\n",
        "            current_list_C.append(symbol_C)\n",
        "            current_value += interval\n",
        "\n",
        "        symbols_to_check[f'S50{letter}{year}_C'] = current_list_C\n",
        "\n",
        "    symbols_to_check = {key.replace('_C', '_Call'): value for key, value in symbols_to_check.items()}\n",
        "\n",
        "    year_options_symbols = []\n",
        "    for letter in letters:\n",
        "        year_options_symbols += symbols_to_check[f'S50{letter}{year}_Call']\n",
        "\n",
        "    filename = f'{year}_OptionsSymbols.txt'\n",
        "    with open(filename, 'w') as file:\n",
        "        for symbol in year_options_symbols:\n",
        "            file.write(f'{symbol}\\n')\n"
      ]
    },
    {
      "cell_type": "markdown",
      "metadata": {},
      "source": [
        "##### **Pull Options Data**"
      ]
    },
    {
      "cell_type": "code",
      "execution_count": null,
      "metadata": {
        "id": "b2xhjpech01J"
      },
      "outputs": [],
      "source": [
        "def getOptions(symbol='S50U23P900'):\n",
        "    options = []\n",
        "    try:\n",
        "        options_df = pd.DataFrame()\n",
        "\n",
        "        for page in range(15):\n",
        "            url = f'https://www.tfex.co.th/tfex/historicalTrading.html?symbol={symbol}&series=&page={page}&periodView=A&locale=en_US'\n",
        "            driver.get(url)\n",
        "            data = driver.page_source\n",
        "            scrap = pd.read_html(data)[0]\n",
        "\n",
        "            mask = scrap['Date'] == 'Grand Total'\n",
        "            indices = int(scrap.index[mask][0])\n",
        "            options_data = scrap.iloc[:indices, :][['Date', 'Open', 'High', 'Low', 'Close', 'SP', 'Vol', 'OI']].replace('-', 0)\n",
        "\n",
        "            options_data['Date'] = pd.to_datetime(options_data['Date'], format='%d/%m/%Y').dt.strftime('%Y-%m-%d')\n",
        "            options_data['SP'] = pd.to_numeric(options_data['SP'])\n",
        "            options_data['Vol'] = pd.to_numeric(options_data['Vol'])\n",
        "            options_data['OI'] = pd.to_numeric(options_data['OI'])\n",
        "\n",
        "            options_df = pd.concat([options_df, options_data], axis=0)\n",
        "\n",
        "        options_df['Symbol'] = symbol\n",
        "        options_df = options_df[['Date', 'Symbol', 'Open', 'High', 'Low', 'Close', 'SP', 'Vol', 'OI']]\n",
        "        options_df = options_df.sort_values(by='Date').reset_index(drop=True)\n",
        "        options_df = options_df.drop_duplicates(subset=['Date'], keep='last')\n",
        "        options = options_df\n",
        "\n",
        "    except Exception as e:\n",
        "        print(f\"An error occurred: {e}\")\n",
        "\n",
        "    return options\n",
        "\n",
        "def get_options_data(options_list):\n",
        "  options_data = []\n",
        "  for symbol in options_list:\n",
        "    data = getOptions(symbol=symbol)  # Replace with your actual getOptions function\n",
        "    options_data.append(data)\n",
        "  options_data = pd.concat(options_data, ignore_index=True)"
      ]
    }
  ],
  "metadata": {
    "colab": {
      "collapsed_sections": [
        "fFEFxEC8wbz2",
        "oUHel7ziwenH",
        "LC-vgkfoU_ub",
        "Q27hSDgKVzPC",
        "rFyn5DND4GRd",
        "CsAIxjIT5Lv7",
        "fpxwWT7jwwPa",
        "HD91At9Rtq_t",
        "FoqFO2Fo0ZBY",
        "VdYNN_8BrzuW",
        "pQJ-9DNjtHL_",
        "T_5IIRG_Y_Sk",
        "CenDhWSIGhrZ",
        "urr5vU4A7MdP",
        "q7wPfuM97dpD",
        "wCC_NXnqu1Rg",
        "HoJUTBaEvJ3N",
        "TpL-gbwsHL5n",
        "IE9vIlELHMHC",
        "CmA4DvJIHMTd",
        "6WJh9DnVHMf_",
        "V2EmUZXuHMsh",
        "moAweS4hHM4v",
        "p-nLl_q-D4uW",
        "j44EYbV_Due7",
        "32OVhdS8Q3So",
        "xRCi0agZEqV0",
        "IH_fdYUXZFem"
      ],
      "provenance": []
    },
    "kernelspec": {
      "display_name": "TensorFlow-GPU",
      "language": "python",
      "name": "tf"
    },
    "language_info": {
      "codemirror_mode": {
        "name": "ipython",
        "version": 3
      },
      "file_extension": ".py",
      "mimetype": "text/x-python",
      "name": "python",
      "nbconvert_exporter": "python",
      "pygments_lexer": "ipython3",
      "version": "3.9.16"
    }
  },
  "nbformat": 4,
  "nbformat_minor": 0
}
